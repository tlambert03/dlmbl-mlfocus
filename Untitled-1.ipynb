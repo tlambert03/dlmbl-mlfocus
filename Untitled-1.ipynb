{
 "cells": [
  {
   "cell_type": "code",
   "execution_count": 18,
   "metadata": {},
   "outputs": [],
   "source": [
    "from pathlib import Path\n",
    "\n",
    "import gunpowder as gp\n",
    "import matplotlib.pyplot as plt\n",
    "\n",
    "zarr_dir = Path(\"../mlfocus_data\") / \"zarr\"\n",
    "raw = gp.ArrayKey(\"RAW\")\n",
    "source = gp.ZarrSource(\n",
    "    str(zarr_dir / \"beads1.zarr\"),\n",
    "    {raw: \"raw\"},\n",
    "    {raw: gp.ArraySpec(interpolatable=True)},\n",
    ")\n"
   ]
  },
  {
   "cell_type": "code",
   "execution_count": 19,
   "metadata": {},
   "outputs": [],
   "source": [
    "pipeline = source\n",
    "# formulate a request for \"raw\"\n",
    "request = gp.BatchRequest()\n",
    "request[raw] = gp.Roi((0, 0, 0, 0), (1, 28, 28, 28))\n"
   ]
  },
  {
   "cell_type": "code",
   "execution_count": 20,
   "metadata": {},
   "outputs": [
    {
     "ename": "BatchRequestError",
     "evalue": "Exception in ZarrSource[../mlfocus_data/zarr/beads1.zarr] while processing request\n\tRAW: ROI: [0:1, 0:64, 0:64, 0:64] (1, 64, 64, 64), voxel size: None, interpolatable: None, non-spatial: False, dtype: None, placeholder: False\n \nBatch returned so far:\nNone",
     "output_type": "error",
     "traceback": [
      "\u001b[0;31m---------------------------------------------------------------------------\u001b[0m",
      "\u001b[0;31mAssertionError\u001b[0m                            Traceback (most recent call last)",
      "File \u001b[0;32m~/miniconda3/envs/ml/lib/python3.10/site-packages/gunpowder/nodes/batch_provider.py:182\u001b[0m, in \u001b[0;36mBatchProvider.request_batch\u001b[0;34m(self, request)\u001b[0m\n\u001b[1;32m    180\u001b[0m logger\u001b[39m.\u001b[39mdebug(\u001b[39m\"\u001b[39m\u001b[39m%s\u001b[39;00m\u001b[39m got request \u001b[39m\u001b[39m%s\u001b[39;00m\u001b[39m\"\u001b[39m, \u001b[39mself\u001b[39m\u001b[39m.\u001b[39mname(), request)\n\u001b[0;32m--> 182\u001b[0m \u001b[39mself\u001b[39;49m\u001b[39m.\u001b[39;49mcheck_request_consistency(request)\n\u001b[1;32m    184\u001b[0m upstream_request \u001b[39m=\u001b[39m request\u001b[39m.\u001b[39mcopy()\n",
      "File \u001b[0;32m~/miniconda3/envs/ml/lib/python3.10/site-packages/gunpowder/nodes/batch_provider.py:228\u001b[0m, in \u001b[0;36mBatchProvider.check_request_consistency\u001b[0;34m(self, request)\u001b[0m\n\u001b[1;32m    227\u001b[0m \u001b[39mif\u001b[39;00m provided_roi \u001b[39mis\u001b[39;00m \u001b[39mnot\u001b[39;00m \u001b[39mNone\u001b[39;00m:\n\u001b[0;32m--> 228\u001b[0m     \u001b[39massert\u001b[39;00m provided_roi\u001b[39m.\u001b[39mcontains(request_roi), \u001b[39m\"\u001b[39m\u001b[39m%s\u001b[39;00m\u001b[39m: \u001b[39m\u001b[39m%s\u001b[39;00m\u001b[39m'\u001b[39m\u001b[39ms ROI \u001b[39m\u001b[39m%s\u001b[39;00m\u001b[39m outside of my ROI \u001b[39m\u001b[39m%s\u001b[39;00m\u001b[39m\"\u001b[39m\u001b[39m%\u001b[39m(\u001b[39mself\u001b[39m\u001b[39m.\u001b[39mname(), key, request_roi, provided_roi)\n\u001b[1;32m    230\u001b[0m \u001b[39mif\u001b[39;00m \u001b[39misinstance\u001b[39m(key, ArrayKey):\n",
      "\u001b[0;31mAssertionError\u001b[0m: ZarrSource[../mlfocus_data/zarr/beads1.zarr]: RAW's ROI [0:1, 0:64, 0:64, 0:64] (1, 64, 64, 64) outside of my ROI [empty ROI]",
      "\nThe above exception was the direct cause of the following exception:\n",
      "\u001b[0;31mBatchRequestError\u001b[0m                         Traceback (most recent call last)",
      "\u001b[1;32m/home/lambertt/dlmbl-mlfocus/Untitled-1.ipynb Cell 3\u001b[0m in \u001b[0;36m<cell line: 2>\u001b[0;34m()\u001b[0m\n\u001b[1;32m      <a href='vscode-notebook-cell://ssh-remote%2Bec2-3-136-112-159.us-east-2.compute.amazonaws.com/home/lambertt/dlmbl-mlfocus/Untitled-1.ipynb#W3sdnNjb2RlLXJlbW90ZQ%3D%3D?line=0'>1</a>\u001b[0m \u001b[39m# build the pipeline...\u001b[39;00m\n\u001b[1;32m      <a href='vscode-notebook-cell://ssh-remote%2Bec2-3-136-112-159.us-east-2.compute.amazonaws.com/home/lambertt/dlmbl-mlfocus/Untitled-1.ipynb#W3sdnNjb2RlLXJlbW90ZQ%3D%3D?line=1'>2</a>\u001b[0m \u001b[39mwith\u001b[39;00m gp\u001b[39m.\u001b[39mbuild(pipeline):\n\u001b[1;32m      <a href='vscode-notebook-cell://ssh-remote%2Bec2-3-136-112-159.us-east-2.compute.amazonaws.com/home/lambertt/dlmbl-mlfocus/Untitled-1.ipynb#W3sdnNjb2RlLXJlbW90ZQ%3D%3D?line=2'>3</a>\u001b[0m   \u001b[39m# ...and request a batch\u001b[39;00m\n\u001b[0;32m----> <a href='vscode-notebook-cell://ssh-remote%2Bec2-3-136-112-159.us-east-2.compute.amazonaws.com/home/lambertt/dlmbl-mlfocus/Untitled-1.ipynb#W3sdnNjb2RlLXJlbW90ZQ%3D%3D?line=3'>4</a>\u001b[0m   batch \u001b[39m=\u001b[39m pipeline\u001b[39m.\u001b[39;49mrequest_batch(request)\n",
      "File \u001b[0;32m~/miniconda3/envs/ml/lib/python3.10/site-packages/gunpowder/nodes/batch_provider.py:199\u001b[0m, in \u001b[0;36mBatchProvider.request_batch\u001b[0;34m(self, request)\u001b[0m\n\u001b[1;32m    195\u001b[0m     logger\u001b[39m.\u001b[39mdebug(\u001b[39m\"\u001b[39m\u001b[39m%s\u001b[39;00m\u001b[39m provides \u001b[39m\u001b[39m%s\u001b[39;00m\u001b[39m\"\u001b[39m, \u001b[39mself\u001b[39m\u001b[39m.\u001b[39mname(), batch)\n\u001b[1;32m    197\u001b[0m \u001b[39mexcept\u001b[39;00m \u001b[39mException\u001b[39;00m \u001b[39mas\u001b[39;00m e:\n\u001b[0;32m--> 199\u001b[0m     \u001b[39mraise\u001b[39;00m BatchRequestError(\u001b[39mself\u001b[39m, request, batch) \u001b[39mfrom\u001b[39;00m \u001b[39me\u001b[39;00m\n\u001b[1;32m    201\u001b[0m \u001b[39mreturn\u001b[39;00m batch\n",
      "\u001b[0;31mBatchRequestError\u001b[0m: Exception in ZarrSource[../mlfocus_data/zarr/beads1.zarr] while processing request\n\tRAW: ROI: [0:1, 0:64, 0:64, 0:64] (1, 64, 64, 64), voxel size: None, interpolatable: None, non-spatial: False, dtype: None, placeholder: False\n \nBatch returned so far:\nNone"
     ]
    }
   ],
   "source": [
    "# build the pipeline...\n",
    "with gp.build(pipeline):\n",
    "  # ...and request a batch\n",
    "  batch = pipeline.request_batch(request)"
   ]
  },
  {
   "cell_type": "code",
   "execution_count": null,
   "metadata": {},
   "outputs": [],
   "source": []
  }
 ],
 "metadata": {
  "kernelspec": {
   "display_name": "Python 3.10.6 ('ml')",
   "language": "python",
   "name": "python3"
  },
  "language_info": {
   "codemirror_mode": {
    "name": "ipython",
    "version": 3
   },
   "file_extension": ".py",
   "mimetype": "text/x-python",
   "name": "python",
   "nbconvert_exporter": "python",
   "pygments_lexer": "ipython3",
   "version": "3.10.6"
  },
  "orig_nbformat": 4,
  "vscode": {
   "interpreter": {
    "hash": "6847909b9857d17af620e2bcd01e60e18ef77cc057f69d4549032de7d44b3f62"
   }
  }
 },
 "nbformat": 4,
 "nbformat_minor": 2
}
