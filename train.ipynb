{
 "cells": [
  {
   "cell_type": "code",
   "execution_count": 8,
   "metadata": {},
   "outputs": [
    {
     "name": "stdout",
     "output_type": "stream",
     "text": [
      "The autoreload extension is already loaded. To reload it, use:\n",
      "  %reload_ext autoreload\n"
     ]
    }
   ],
   "source": [
    "from mlfocus import util\n",
    "from mlfocus.loader import MyData\n",
    "\n",
    "%load_ext autoreload\n",
    "%autoreload 2"
   ]
  },
  {
   "cell_type": "code",
   "execution_count": 81,
   "metadata": {},
   "outputs": [],
   "source": [
    "self = MyData('../mlfocus_data/')"
   ]
  },
  {
   "cell_type": "code",
   "execution_count": 94,
   "metadata": {},
   "outputs": [
    {
     "name": "stdout",
     "output_type": "stream",
     "text": [
      "../mlfocus_data/mt002/patches/mt002_stack0006_004.npz\n",
      "torch.Size([1, 2, 64, 32])\n"
     ]
    },
    {
     "ename": "IndexError",
     "evalue": "index 2638 is out of bounds for axis 0 with size 6",
     "output_type": "error",
     "traceback": [
      "\u001b[0;31m---------------------------------------------------------------------------\u001b[0m",
      "\u001b[0;31mIndexError\u001b[0m                                Traceback (most recent call last)",
      "\u001b[1;32m/home/lambertt/dlmbl-mlfocus/train.ipynb Cell 3\u001b[0m in \u001b[0;36m<cell line: 6>\u001b[0;34m()\u001b[0m\n\u001b[1;32m      <a href='vscode-notebook-cell://ssh-remote%2Bec2-3-136-112-159.us-east-2.compute.amazonaws.com/home/lambertt/dlmbl-mlfocus/train.ipynb#W2sdnNjb2RlLXJlbW90ZQ%3D%3D?line=6'>7</a>\u001b[0m img \u001b[39m=\u001b[39m \u001b[39mself\u001b[39m[idx][\u001b[39m0\u001b[39m]\n\u001b[1;32m      <a href='vscode-notebook-cell://ssh-remote%2Bec2-3-136-112-159.us-east-2.compute.amazonaws.com/home/lambertt/dlmbl-mlfocus/train.ipynb#W2sdnNjb2RlLXJlbW90ZQ%3D%3D?line=7'>8</a>\u001b[0m \u001b[39mprint\u001b[39m(img\u001b[39m.\u001b[39mshape)\n\u001b[0;32m---> <a href='vscode-notebook-cell://ssh-remote%2Bec2-3-136-112-159.us-east-2.compute.amazonaws.com/home/lambertt/dlmbl-mlfocus/train.ipynb#W2sdnNjb2RlLXJlbW90ZQ%3D%3D?line=9'>10</a>\u001b[0m axes[idx, \u001b[39m0\u001b[39;49m]\u001b[39m.\u001b[39mimshow(img[\u001b[39m0\u001b[39m, \u001b[39m0\u001b[39m]\u001b[39m*\u001b[39m\u001b[39m*\u001b[39m\u001b[39m0.1\u001b[39m)\n\u001b[1;32m     <a href='vscode-notebook-cell://ssh-remote%2Bec2-3-136-112-159.us-east-2.compute.amazonaws.com/home/lambertt/dlmbl-mlfocus/train.ipynb#W2sdnNjb2RlLXJlbW90ZQ%3D%3D?line=10'>11</a>\u001b[0m axes[idx, \u001b[39m1\u001b[39m]\u001b[39m.\u001b[39mimshow(img[\u001b[39m0\u001b[39m, \u001b[39m1\u001b[39m])\n",
      "\u001b[0;31mIndexError\u001b[0m: index 2638 is out of bounds for axis 0 with size 6"
     ]
    },
    {
     "data": {
      "image/png": "[encoded data removed]",
      "text/plain": [
       "<Figure size 1000x500 with 12 Axes>"
      ]
     },
     "metadata": {},
     "output_type": "display_data"
    }
   ],
   "source": [
    "import numpy as np\n",
    "import matplotlib.pyplot as plt\n",
    "\n",
    "n = 6\n",
    "fig, axes = plt.subplots(n, 2, figsize=(10, 5))\n",
    "for n, idx in enumerate(np.random.randint(0, len(self), size=n)):\n",
    "    img = self[idx][0]\n",
    "    axes[idx, 0].imshow(img[0, 0]**0.1)\n",
    "    axes[idx, 1].imshow(img[0, 1])"
   ]
  },
  {
   "cell_type": "code",
   "execution_count": null,
   "metadata": {},
   "outputs": [],
   "source": []
  },
  {
   "cell_type": "code",
   "execution_count": null,
   "metadata": {},
   "outputs": [],
   "source": []
  }
 ],
 "metadata": {
  "kernelspec": {
   "display_name": "Python 3.10.6 ('ml': conda)",
   "language": "python",
   "name": "python3"
  },
  "language_info": {
   "codemirror_mode": {
    "name": "ipython",
    "version": 3
   },
   "file_extension": ".py",
   "mimetype": "text/x-python",
   "name": "python",
   "nbconvert_exporter": "python",
   "pygments_lexer": "ipython3",
   "version": "3.10.6"
  },
  "orig_nbformat": 4,
  "vscode": {
   "interpreter": {
    "hash": "6847909b9857d17af620e2bcd01e60e18ef77cc057f69d4549032de7d44b3f62"
   }
  }
 },
 "nbformat": 4,
 "nbformat_minor": 2
}
